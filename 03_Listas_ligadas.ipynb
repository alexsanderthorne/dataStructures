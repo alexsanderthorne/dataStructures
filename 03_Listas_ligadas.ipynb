{
  "nbformat": 4,
  "nbformat_minor": 0,
  "metadata": {
    "colab": {
      "name": "03 - Listas ligadas.ipynb",
      "provenance": [],
      "collapsed_sections": [],
      "include_colab_link": true
    },
    "kernelspec": {
      "name": "python3",
      "display_name": "Python 3"
    }
  },
  "cells": [
    {
      "cell_type": "markdown",
      "metadata": {
        "id": "view-in-github",
        "colab_type": "text"
      },
      "source": [
        "<a href=\"https://colab.research.google.com/github/alexsanderthorne/dataStructures/blob/EdDev/03_Listas_ligadas.ipynb\" target=\"_parent\"><img src=\"https://colab.research.google.com/assets/colab-badge.svg\" alt=\"Open In Colab\"/></a>"
      ]
    },
    {
      "cell_type": "markdown",
      "metadata": {
        "id": "sADLU_ATVafE"
      },
      "source": [
        "# **Aula 03 - Listas Ligadas**"
      ]
    },
    {
      "cell_type": "markdown",
      "metadata": {
        "id": "GBXYioYFVlFb"
      },
      "source": [
        "##**Considerações**\n",
        "- É composta por **nós** que contém um campo para para **armazenar o dado e** outro para uma **referência a outro(s) nó(s)**.\n",
        "\n",
        "- Para que se possa \"ter\" uma lista ligada, basicamente basta guardar o seu **primeiro nó**, que é conhecido como **head**."
      ]
    },
    {
      "cell_type": "markdown",
      "metadata": {
        "id": "aGSANlx-X6dS"
      },
      "source": [
        "## **Exemplos**\n",
        "\n",
        "- ### **Lista Ligada Simplesmente Encadeada (LLSE)**\n",
        "\n",
        "  node = | data | next |\n",
        "\n",
        "  |node1|--> |node2|--> |node3|--> |node4|--> |node5|--> None\n",
        "\n",
        "- ### **Lista Ligada Duplamente Encadeada (LLDE)**\n",
        "\n",
        "  node = | prev | data | next |\n",
        "\n",
        "  None <--|node1|--> <--|node2|--> <--|node3|--> <--|node4|--> <--|node5|--> None"
      ]
    },
    {
      "cell_type": "markdown",
      "metadata": {
        "id": "Oc9rrNdOKCVi"
      },
      "source": [
        "## **Implementação**"
      ]
    },
    {
      "cell_type": "markdown",
      "metadata": {
        "id": "n13o-Sqf9CFI"
      },
      "source": [
        "### **Nó**"
      ]
    },
    {
      "cell_type": "code",
      "metadata": {
        "id": "SUHlaqm2KLbw"
      },
      "source": [
        "\n",
        "class Node:\n",
        "\n",
        "  def __init__(self, data=None):\n",
        "  \n",
        "    self.prev = None\n",
        "\n",
        "    self.data = data\n",
        "  \n",
        "    self.next = None\n",
        "  \n",
        "  def __repr__(self):\n",
        "  \n",
        "    return '|'+ str(self.data) + '|'"
      ],
      "execution_count": 1,
      "outputs": []
    },
    {
      "cell_type": "markdown",
      "metadata": {
        "id": "IWd5qlx29E7n"
      },
      "source": [
        "### **Lista Ligada**"
      ]
    },
    {
      "cell_type": "code",
      "metadata": {
        "id": "GIr977HIKQji"
      },
      "source": [
        "class LinkedList:\n",
        "  \n",
        "  def __init__(self):\n",
        "    \n",
        "    self.head = None\n",
        "\n",
        "    self.length = 0\n",
        "\n",
        "  def search(self, data):\n",
        "\n",
        "    if self.head == None:\n",
        "\n",
        "      return False\n",
        "\n",
        "    else:\n",
        "\n",
        "      node = self.head\n",
        "\n",
        "      while node != None:\n",
        "\n",
        "        if node.data == data:\n",
        "\n",
        "          return True\n",
        "\n",
        "        node = node.next\n",
        "\n",
        "      return False\n",
        "\n",
        "  def __iter__(self):\n",
        "\n",
        "    node = self.head\n",
        "    \n",
        "    while node != None:\n",
        "            \n",
        "      yield node.data\n",
        "      \n",
        "      node = node.next\n",
        "\n",
        "  def __len__(self):\n",
        "\n",
        "    return self.length\n",
        "\n",
        "  def __repr__(self):\n",
        "\n",
        "    string = ''\n",
        "    \n",
        "    node = self.head\n",
        "    \n",
        "    while node != None:\n",
        "    \n",
        "      string += str(node) + '-->'\n",
        "    \n",
        "      node = node.next\n",
        "      \n",
        "    return string"
      ],
      "execution_count": 3,
      "outputs": []
    },
    {
      "cell_type": "markdown",
      "metadata": {
        "id": "yT2snc-ZVJ6R"
      },
      "source": [
        "## **LLSE**"
      ]
    },
    {
      "cell_type": "code",
      "metadata": {
        "id": "DIZqEZCCcYu_"
      },
      "source": [
        "class LLSE(LinkedList):\n",
        "\n",
        "  def add(self, data):\n",
        "\n",
        "    self.length += 1\n",
        "    \n",
        "    node = Node(data)\n",
        "    \n",
        "    if self.head == None:\n",
        "      \n",
        "      self.head = node\n",
        "    \n",
        "    else:\n",
        "\n",
        "      node.next = self.head\n",
        "      \n",
        "      self.head = node\n",
        "\n",
        "  def remove(self):\n",
        "\n",
        "    if self.head != None:\n",
        "\n",
        "      self.length -= 1\n",
        "\n",
        "      node = self.head\n",
        "      \n",
        "      self.head = self.head.next\n",
        "\n",
        "      node.next = None\n",
        "\n",
        "      return node\n",
        "\n",
        "    else:\n",
        "\n",
        "      return None"
      ],
      "execution_count": 7,
      "outputs": []
    },
    {
      "cell_type": "markdown",
      "metadata": {
        "id": "ib-X04pVjs0O"
      },
      "source": [
        "#### **Execução**"
      ]
    },
    {
      "cell_type": "markdown",
      "metadata": {
        "id": "8a2uyyD8j6kV"
      },
      "source": [
        "- **Inicializar**"
      ]
    },
    {
      "cell_type": "code",
      "metadata": {
        "id": "wG0xQRTSjvg4"
      },
      "source": [
        "linked_list = LLSE()"
      ],
      "execution_count": 8,
      "outputs": []
    },
    {
      "cell_type": "markdown",
      "metadata": {
        "id": "PdJXggf8kGFM"
      },
      "source": [
        "- **Inserir**"
      ]
    },
    {
      "cell_type": "code",
      "metadata": {
        "id": "rGzQymevkL5O"
      },
      "source": [
        "linked_list.add(3)\n",
        "linked_list.add(2)\n",
        "linked_list.add(1)"
      ],
      "execution_count": 9,
      "outputs": []
    },
    {
      "cell_type": "code",
      "metadata": {
        "id": "9t3E6f_uhNni"
      },
      "source": [
        "linked_list.add(4)\n",
        "linked_list.add(666)"
      ],
      "execution_count": 21,
      "outputs": []
    },
    {
      "cell_type": "markdown",
      "metadata": {
        "id": "3952VewYlD9c"
      },
      "source": [
        "- **Comprimento**"
      ]
    },
    {
      "cell_type": "code",
      "metadata": {
        "colab": {
          "base_uri": "https://localhost:8080/"
        },
        "id": "C1ZvhaV_lJob",
        "outputId": "243ea937-7fbc-409f-9944-5f8be0e0149f"
      },
      "source": [
        "len(linked_list)"
      ],
      "execution_count": 22,
      "outputs": [
        {
          "output_type": "execute_result",
          "data": {
            "text/plain": [
              "2"
            ]
          },
          "metadata": {
            "tags": []
          },
          "execution_count": 22
        }
      ]
    },
    {
      "cell_type": "markdown",
      "metadata": {
        "id": "Z2MnexEilGFh"
      },
      "source": [
        "- **Pesquisar**"
      ]
    },
    {
      "cell_type": "code",
      "metadata": {
        "colab": {
          "base_uri": "https://localhost:8080/"
        },
        "id": "dqDaBYurlITC",
        "outputId": "2016c16c-5ff7-4f5f-f08a-89a511249ad1"
      },
      "source": [
        "linked_list.search(1)"
      ],
      "execution_count": 24,
      "outputs": [
        {
          "output_type": "execute_result",
          "data": {
            "text/plain": [
              "False"
            ]
          },
          "metadata": {
            "tags": []
          },
          "execution_count": 24
        }
      ]
    },
    {
      "cell_type": "code",
      "metadata": {
        "colab": {
          "base_uri": "https://localhost:8080/"
        },
        "id": "kV0U5bWe2_np",
        "outputId": "df65b6b9-7c14-4b38-c75e-36fecf3e5569"
      },
      "source": [
        "0 in linked_list"
      ],
      "execution_count": null,
      "outputs": [
        {
          "output_type": "execute_result",
          "data": {
            "text/plain": [
              "False"
            ]
          },
          "metadata": {
            "tags": []
          },
          "execution_count": 8
        }
      ]
    },
    {
      "cell_type": "code",
      "metadata": {
        "colab": {
          "base_uri": "https://localhost:8080/"
        },
        "id": "JRMlPiZRldrG",
        "outputId": "6c203cc8-c184-44ef-b00b-9ff16b8e5ebf"
      },
      "source": [
        "linked_list.search(1)"
      ],
      "execution_count": null,
      "outputs": [
        {
          "output_type": "execute_result",
          "data": {
            "text/plain": [
              "True"
            ]
          },
          "metadata": {
            "tags": []
          },
          "execution_count": 9
        }
      ]
    },
    {
      "cell_type": "code",
      "metadata": {
        "colab": {
          "base_uri": "https://localhost:8080/"
        },
        "id": "Ll4W7ytb3Dwx",
        "outputId": "128b5c2b-e5b3-4e2e-b716-a4f3459d4424"
      },
      "source": [
        "1 in linked_list"
      ],
      "execution_count": 25,
      "outputs": [
        {
          "output_type": "execute_result",
          "data": {
            "text/plain": [
              "False"
            ]
          },
          "metadata": {
            "tags": []
          },
          "execution_count": 25
        }
      ]
    },
    {
      "cell_type": "markdown",
      "metadata": {
        "id": "nfJtexqmkbp0"
      },
      "source": [
        "- **Exibir**"
      ]
    },
    {
      "cell_type": "code",
      "metadata": {
        "colab": {
          "base_uri": "https://localhost:8080/"
        },
        "id": "LyhVGI--kfE9",
        "outputId": "cc38eb9c-fba3-4043-b2f7-b0b914097468"
      },
      "source": [
        "print(linked_list)"
      ],
      "execution_count": 26,
      "outputs": [
        {
          "output_type": "stream",
          "text": [
            "|666|-->|4|-->\n"
          ],
          "name": "stdout"
        }
      ]
    },
    {
      "cell_type": "markdown",
      "metadata": {
        "id": "Hh79fnqVgb7x"
      },
      "source": [
        "- **Remover**"
      ]
    },
    {
      "cell_type": "code",
      "metadata": {
        "colab": {
          "base_uri": "https://localhost:8080/"
        },
        "id": "newR1tOjge-p",
        "outputId": "32c55fe9-984f-4f8e-fd27-81d6774139b7"
      },
      "source": [
        "node = linked_list.remove()\n",
        "print('nó removido:', node)\n",
        "print('linked_list:', linked_list)"
      ],
      "execution_count": 15,
      "outputs": [
        {
          "output_type": "stream",
          "text": [
            "nó removido: |1|\n",
            "linked_list: |2|-->|3|-->\n"
          ],
          "name": "stdout"
        }
      ]
    },
    {
      "cell_type": "code",
      "metadata": {
        "colab": {
          "base_uri": "https://localhost:8080/"
        },
        "id": "lyS50_gMgv9z",
        "outputId": "294a4ffd-7513-438c-eca1-fbd9b897b2bc"
      },
      "source": [
        "node = linked_list.remove()\n",
        "print('nó removido:', node)\n",
        "print('linked_list:', linked_list)"
      ],
      "execution_count": 27,
      "outputs": [
        {
          "output_type": "stream",
          "text": [
            "nó removido: |666|\n",
            "linked_list: |4|-->\n"
          ],
          "name": "stdout"
        }
      ]
    },
    {
      "cell_type": "code",
      "metadata": {
        "colab": {
          "base_uri": "https://localhost:8080/"
        },
        "id": "xQ7J5m3MgzcQ",
        "outputId": "86132178-f255-483f-d45c-83916d9af3a3"
      },
      "source": [
        "node = linked_list.remove()\n",
        "print('nó removido:', node)\n",
        "print('linked_list:', linked_list)"
      ],
      "execution_count": 20,
      "outputs": [
        {
          "output_type": "stream",
          "text": [
            "nó removido: None\n",
            "linked_list: \n"
          ],
          "name": "stdout"
        }
      ]
    },
    {
      "cell_type": "markdown",
      "metadata": {
        "id": "L7SRf6Ax9U2P"
      },
      "source": [
        "## **LLDE**"
      ]
    },
    {
      "cell_type": "code",
      "metadata": {
        "id": "SKd1iW_S-vNI"
      },
      "source": [
        "class LLDE(LinkedList):\n",
        "\n",
        "  def add(self, data):\n",
        "\n",
        "    self.length += 1\n",
        "\n",
        "    node = Node(data)\n",
        "\n",
        "    if self.head == None:\n",
        "\n",
        "      self.head = node\n",
        "\n",
        "    else:\n",
        "\n",
        "      node.next = self.head\n",
        "\n",
        "      self.head.prev = node\n",
        "\n",
        "      self.head = node\n",
        "\n",
        "  def remove(self):\n",
        "\n",
        "    if self.head != None:\n",
        "\n",
        "      self.length -= 1\n",
        "\n",
        "      node = self.head\n",
        "\n",
        "      self.head = node.next\n",
        "\n",
        "      if self.head != None:\n",
        "\n",
        "        self.head.prev = None\n",
        "\n",
        "      node.next = None\n",
        "\n",
        "      return node\n",
        "\n",
        "    else: \n",
        "\n",
        "      return None"
      ],
      "execution_count": null,
      "outputs": []
    },
    {
      "cell_type": "markdown",
      "metadata": {
        "id": "mlTZnmUxGGl3"
      },
      "source": [
        "- **Inicializar**"
      ]
    },
    {
      "cell_type": "code",
      "metadata": {
        "id": "hpKVi2OVCezO"
      },
      "source": [
        "linked_list = LLDE()"
      ],
      "execution_count": null,
      "outputs": []
    },
    {
      "cell_type": "markdown",
      "metadata": {
        "id": "ZE1vwPv2GQ6R"
      },
      "source": [
        "- **Inserir**"
      ]
    },
    {
      "cell_type": "code",
      "metadata": {
        "id": "AZlhumomCiek"
      },
      "source": [
        "linked_list.add(3)\n",
        "linked_list.add(2)\n",
        "linked_list.add(1)"
      ],
      "execution_count": null,
      "outputs": []
    },
    {
      "cell_type": "markdown",
      "metadata": {
        "id": "7NdyAxeqGS_k"
      },
      "source": [
        "- **Comprimento**"
      ]
    },
    {
      "cell_type": "code",
      "metadata": {
        "colab": {
          "base_uri": "https://localhost:8080/"
        },
        "id": "nKUQssB4GW_a",
        "outputId": "49a818a4-7fb1-445f-8d42-541c4905a78f"
      },
      "source": [
        "len(linked_list)"
      ],
      "execution_count": null,
      "outputs": [
        {
          "output_type": "execute_result",
          "data": {
            "text/plain": [
              "3"
            ]
          },
          "metadata": {
            "tags": []
          },
          "execution_count": 18
        }
      ]
    },
    {
      "cell_type": "markdown",
      "metadata": {
        "id": "gEadrPV-GgPj"
      },
      "source": [
        "- **Pesquisar**"
      ]
    },
    {
      "cell_type": "code",
      "metadata": {
        "colab": {
          "base_uri": "https://localhost:8080/"
        },
        "id": "0yjU5Y4kGisP",
        "outputId": "1259627c-4446-4691-9cb0-622a08635004"
      },
      "source": [
        "linked_list.search(0)"
      ],
      "execution_count": null,
      "outputs": [
        {
          "output_type": "execute_result",
          "data": {
            "text/plain": [
              "False"
            ]
          },
          "metadata": {
            "tags": []
          },
          "execution_count": 19
        }
      ]
    },
    {
      "cell_type": "code",
      "metadata": {
        "colab": {
          "base_uri": "https://localhost:8080/"
        },
        "id": "oYjrzC93GqE1",
        "outputId": "99f274b9-4d94-4599-ae8c-0c518391dac8"
      },
      "source": [
        "0 in linked_list"
      ],
      "execution_count": null,
      "outputs": [
        {
          "output_type": "execute_result",
          "data": {
            "text/plain": [
              "False"
            ]
          },
          "metadata": {
            "tags": []
          },
          "execution_count": 20
        }
      ]
    },
    {
      "cell_type": "code",
      "metadata": {
        "colab": {
          "base_uri": "https://localhost:8080/"
        },
        "id": "__KisC_XG3n8",
        "outputId": "3d531f28-66d1-4b8e-d59c-199bfc40dd38"
      },
      "source": [
        "linked_list.search(1)"
      ],
      "execution_count": null,
      "outputs": [
        {
          "output_type": "execute_result",
          "data": {
            "text/plain": [
              "True"
            ]
          },
          "metadata": {
            "tags": []
          },
          "execution_count": 21
        }
      ]
    },
    {
      "cell_type": "code",
      "metadata": {
        "colab": {
          "base_uri": "https://localhost:8080/"
        },
        "id": "TJLcWD3HG6qg",
        "outputId": "dd1e0c74-f48a-4b05-de8e-3a4a12a01713"
      },
      "source": [
        "1 in linked_list"
      ],
      "execution_count": null,
      "outputs": [
        {
          "output_type": "execute_result",
          "data": {
            "text/plain": [
              "True"
            ]
          },
          "metadata": {
            "tags": []
          },
          "execution_count": 22
        }
      ]
    },
    {
      "cell_type": "markdown",
      "metadata": {
        "id": "OldONPMnHGoq"
      },
      "source": [
        "- Exibir"
      ]
    },
    {
      "cell_type": "code",
      "metadata": {
        "colab": {
          "base_uri": "https://localhost:8080/"
        },
        "id": "xLCIFJx3GXXi",
        "outputId": "1d933e72-3253-4f46-83f3-3a95589a5097"
      },
      "source": [
        "print(linked_list)"
      ],
      "execution_count": null,
      "outputs": [
        {
          "output_type": "stream",
          "text": [
            "|1|-->|2|-->|3|-->\n"
          ],
          "name": "stdout"
        }
      ]
    },
    {
      "cell_type": "markdown",
      "metadata": {
        "id": "iKfifzt1HMSY"
      },
      "source": [
        "- Remover"
      ]
    },
    {
      "cell_type": "code",
      "metadata": {
        "colab": {
          "base_uri": "https://localhost:8080/"
        },
        "id": "I-utqFFlCoFD",
        "outputId": "544dbcf5-7aba-42d9-f2dd-cf1445787125"
      },
      "source": [
        "node = linked_list.remove()\n",
        "print('nó removido:', node)\n",
        "print('linked_list:', linked_list)"
      ],
      "execution_count": null,
      "outputs": [
        {
          "output_type": "stream",
          "text": [
            "nó removido: |1|\n",
            "linked_list: |2|-->|3|-->\n"
          ],
          "name": "stdout"
        }
      ]
    },
    {
      "cell_type": "code",
      "metadata": {
        "colab": {
          "base_uri": "https://localhost:8080/"
        },
        "id": "TxlP6r2FH5ly",
        "outputId": "6822b92d-2313-421f-fe68-61736151e04e"
      },
      "source": [
        "node = linked_list.remove()\n",
        "print('nó removido:', node)\n",
        "print('linked_list:', linked_list)"
      ],
      "execution_count": null,
      "outputs": [
        {
          "output_type": "stream",
          "text": [
            "nó removido: |2|\n",
            "linked_list: |3|-->\n"
          ],
          "name": "stdout"
        }
      ]
    },
    {
      "cell_type": "code",
      "metadata": {
        "colab": {
          "base_uri": "https://localhost:8080/"
        },
        "id": "ZBnyhajqH7wG",
        "outputId": "7368304a-a167-4841-ec8b-691fb4f7f1b2"
      },
      "source": [
        "node = linked_list.remove()\n",
        "print('nó removido:', node)\n",
        "print('linked_list:', linked_list)"
      ],
      "execution_count": null,
      "outputs": [
        {
          "output_type": "stream",
          "text": [
            "nó removido: |3|\n",
            "linked_list: \n"
          ],
          "name": "stdout"
        }
      ]
    }
  ]
}